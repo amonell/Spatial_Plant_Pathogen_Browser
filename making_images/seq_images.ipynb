{
 "cells": [
  {
   "cell_type": "markdown",
   "metadata": {},
   "source": [
    "Creating seq objects for cellxgene"
   ]
  },
  {
   "cell_type": "code",
   "execution_count": 67,
   "metadata": {},
   "outputs": [],
   "source": [
    "import scanpy as sc\n",
    "import numpy as np\n",
    "import os\n",
    "import matplotlib.pyplot as plt"
   ]
  },
  {
   "cell_type": "code",
   "execution_count": 2,
   "metadata": {},
   "outputs": [],
   "source": [
    "dc3000 = sc.read('/projects/Alex/Spatiotemporal_Atlas_Ecker/data/DC3000_alone.h5ad')"
   ]
  },
  {
   "cell_type": "code",
   "execution_count": 21,
   "metadata": {},
   "outputs": [],
   "source": [
    "sc.pp.highly_variable_genes(dc3000)"
   ]
  },
  {
   "cell_type": "code",
   "execution_count": 22,
   "metadata": {},
   "outputs": [],
   "source": [
    "dc3000 = dc3000[:, dc3000.var.highly_variable]"
   ]
  },
  {
   "cell_type": "code",
   "execution_count": 23,
   "metadata": {},
   "outputs": [],
   "source": [
    "sc.tl.pca(dc3000)"
   ]
  },
  {
   "cell_type": "code",
   "execution_count": 37,
   "metadata": {},
   "outputs": [],
   "source": [
    "sc.pp.neighbors(dc3000, use_rep='X_pca_kt56')"
   ]
  },
  {
   "cell_type": "code",
   "execution_count": 38,
   "metadata": {},
   "outputs": [],
   "source": [
    "sc.tl.umap(dc3000)"
   ]
  },
  {
   "cell_type": "code",
   "execution_count": 63,
   "metadata": {},
   "outputs": [],
   "source": [
    "dc3000.obs['celltype']= dc3000.obs['celltype'].replace('epidermis', 'Epidermis').replace('mesophyll', 'Mesophyll').replace('undifferentiated', 'Unknown').replace('vasculature', 'Vasculature').replace('', 'Unknown').to_list()"
   ]
  },
  {
   "cell_type": "code",
   "execution_count": 64,
   "metadata": {},
   "outputs": [],
   "source": [
    "dc3000.uns['celltype_colors'] = ['#1f77b4', '#ff7f0e', '#2ca02c', '#d62728']"
   ]
  },
  {
   "cell_type": "code",
   "execution_count": null,
   "metadata": {},
   "outputs": [],
   "source": [
    "sc.pl.embedding(dc3000, basis='X_wnn.umap', color='celltype')"
   ]
  },
  {
   "cell_type": "code",
   "execution_count": 57,
   "metadata": {},
   "outputs": [],
   "source": [
    "avr = sc.read('/projects/Alex/Spatiotemporal_Atlas_Ecker/data/AvrRpt2_alone.h5ad')"
   ]
  },
  {
   "cell_type": "code",
   "execution_count": null,
   "metadata": {},
   "outputs": [],
   "source": [
    "for exp in np.unique(avr.obs['sample']):\n",
    "    curr_ad = avr[avr.obs['sample'] == exp]\n",
    "    name = exp.split('_')[1]\n",
    "    fig = sc.pl.umap(curr_ad, color='celltype', title=f'{name} snMultiome', frameon=False, return_fig=True, show=False)\n",
    "    fig.savefig(os.path.join('/home/amonell/Desktop/arabidopsis_website_cellxgene/static/images/seq_images', f'{name}.png'))\n",
    "    plt.show()\n",
    "    plt.close()"
   ]
  }
 ],
 "metadata": {
  "kernelspec": {
   "display_name": "scdior",
   "language": "python",
   "name": "python3"
  },
  "language_info": {
   "codemirror_mode": {
    "name": "ipython",
    "version": 3
   },
   "file_extension": ".py",
   "mimetype": "text/x-python",
   "name": "python",
   "nbconvert_exporter": "python",
   "pygments_lexer": "ipython3",
   "version": "3.8.8"
  }
 },
 "nbformat": 4,
 "nbformat_minor": 2
}
