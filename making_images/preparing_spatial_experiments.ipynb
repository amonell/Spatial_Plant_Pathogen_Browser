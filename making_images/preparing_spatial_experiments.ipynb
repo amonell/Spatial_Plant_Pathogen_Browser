{
 "cells": [
  {
   "cell_type": "markdown",
   "metadata": {},
   "source": [
    "creating spatial objects for cellxgene"
   ]
  },
  {
   "cell_type": "code",
   "execution_count": 1,
   "metadata": {},
   "outputs": [],
   "source": [
    "import scanpy as sc\n",
    "import numpy as np\n",
    "import pandas as pd\n",
    "import glob\n",
    "import os"
   ]
  },
  {
   "cell_type": "code",
   "execution_count": null,
   "metadata": {},
   "outputs": [],
   "source": [
    "fls = glob.glob('/projects/Alex/Spatiotemporal_Atlas_Ecker/data/integration/*')\n",
    "\n",
    "for fl in fls:\n",
    "    ad_sp = sc.read(os.path.join(fl, 'spatial_data.h5ad'))\n",
    "    print(fl)\n",
    "    try:\n",
    "        ad_sp.obs = ad_sp.obs[['x', 'y', 'n_transcripts', 'density', 'elongation', 'area', 'avg_confidence', 'transcript_counts_div_cell_area', 'batch', 'leiden', 'modality',  'DC3000_Cluster_Transfer', 'pseudotime','celltype']]\n",
    "    except:\n",
    "        ad_sp.obs['AvrRpt2_Cluster_Transfer'] = ad_sp.obs['SCT_snn_res.1'].values\n",
    "        ad_sp.obs = ad_sp.obs[['x', 'y', 'n_transcripts', 'density', 'elongation', 'area', 'avg_confidence', 'transcript_counts_div_cell_area', 'batch', 'leiden', 'modality',  'AvrRpt2_Cluster_Transfer', 'pseudotime','celltype']]\n",
    "    name = os.path.basename(fl)\n",
    "    try:\n",
    "        ad_sp.obsm['X_umap_joint_spatial'] = ad_sp.obsm['X_umap']\n",
    "        ad_sp.obsm['X_umap_joint_seq'] = ad_sp.obsm['X_umap_gimvi']\n",
    "        for key in ['X_gimvi', 'X_pca', 'X_ref.pca', 'X_umap', 'X_umap_gimvi']:\n",
    "            del ad_sp.obsm[key]\n",
    "    except:\n",
    "        ad_sp.obsm['X_umap_joint_seq'] = ad_sp.obsm['X_umap_gimvi']\n",
    "        for key in ['X_gimvi', 'X_pca', 'X_ref.pca', 'X_umap', 'X_umap_gimvi']:\n",
    "            try:\n",
    "                del ad_sp.obsm[key]   \n",
    "            except:\n",
    "                print(key)  \n",
    "    try:   \n",
    "        del ad_sp.layers['integrated']\n",
    "    except:\n",
    "        None\n",
    "    ad_sp.write(os.path.join('/home/amonell/Desktop/arabidopsis_website_cellxgene/static/spatial_objects', name + '.h5ad'))\n"
   ]
  },
  {
   "cell_type": "code",
   "execution_count": null,
   "metadata": {},
   "outputs": [],
   "source": [
    "all_spatial = sc.read('/projects/Alex/Spatiotemporal_Atlas_Ecker/data/combined_spatial_seurat.h5ad')"
   ]
  },
  {
   "cell_type": "code",
   "execution_count": 55,
   "metadata": {},
   "outputs": [],
   "source": [
    "all_spatial.obs = all_spatial.obs[['x', 'y', 'n_transcripts', 'density', 'elongation', 'area', 'avg_confidence', 'transcript_counts_div_cell_area', 'batch','leiden', 'modality', 'nCount_RNA', 'nFeature_RNA']]"
   ]
  },
  {
   "cell_type": "code",
   "execution_count": 57,
   "metadata": {},
   "outputs": [],
   "source": [
    "del all_spatial.layers['integrated']"
   ]
  },
  {
   "cell_type": "code",
   "execution_count": 58,
   "metadata": {},
   "outputs": [],
   "source": [
    "all_spatial.write('/home/amonell/Desktop/arabidopsis_website_cellxgene/static/spatial_objects/joint_spatial.h5ad')"
   ]
  }
 ],
 "metadata": {
  "kernelspec": {
   "display_name": "scdior",
   "language": "python",
   "name": "python3"
  },
  "language_info": {
   "codemirror_mode": {
    "name": "ipython",
    "version": 3
   },
   "file_extension": ".py",
   "mimetype": "text/x-python",
   "name": "python",
   "nbconvert_exporter": "python",
   "pygments_lexer": "ipython3",
   "version": "3.9.18"
  }
 },
 "nbformat": 4,
 "nbformat_minor": 2
}
