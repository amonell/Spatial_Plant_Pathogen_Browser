{
 "cells": [
  {
   "cell_type": "code",
   "execution_count": 33,
   "metadata": {},
   "outputs": [],
   "source": [
    "import scanpy as sc\n",
    "import numpy as np\n",
    "import pandas as pd\n",
    "import glob\n",
    "import os"
   ]
  },
  {
   "cell_type": "code",
   "execution_count": null,
   "metadata": {},
   "outputs": [],
   "source": [
    "seq = sc.read('/projects/Alex/Spatiotemporal_Atlas_Ecker/data/AvrRpt2_alone.h5ad')\n",
    "atac = sc.read('/projects/Alex/Spatiotemporal_Atlas_Ecker/data/AvrRpt2_alone2_atac.h5ad')\n",
    "chromvar = pd.read_csv('/projects/Alex/Spatiotemporal_Atlas_Ecker/data/AvrRpt2_alone2_chromvar.csv', index_col=0)"
   ]
  },
  {
   "cell_type": "code",
   "execution_count": 35,
   "metadata": {},
   "outputs": [],
   "source": [
    "chromvar_ad = sc.AnnData(X=chromvar.T, var=pd.DataFrame(index=chromvar.index.values), obs=pd.DataFrame(index=chromvar.columns))\n",
    "\n",
    "atac_names = atac.var.index.values\n",
    "atac_names = ['ATAC_'+ i for i in atac_names]\n",
    "atac.var.index = atac_names\n",
    "\n",
    "chromvar_names = chromvar_ad.var.index.values\n",
    "chromvar_names = ['Chromvar_'+ i for i in chromvar_names]\n",
    "chromvar_ad.var.index = chromvar_names\n",
    "concatenated = sc.concat([seq, atac, chromvar_ad], axis=1, merge='first')\n",
    "concatenated.obs = concatenated.obs[['sample','nCount_RNA', 'nFeature_RNA', 'nCount_ATAC', 'nFeature_ATAC', 'nCount_SCT', 'nFeature_SCT','percent.mt', 'time', 'doublet', 'SCT_snn_res.1',\n",
    "       'nCount_peaks', 'nFeature_peaks', 'nCount_atacRNA_400bp', 'nFeature_atacRNA_400bp', 'celltype','modality']]\n",
    "concatenated.obs['Cluster'] = concatenated.obs['SCT_snn_res.1'].values\n",
    "\n",
    "del concatenated.obs['SCT_snn_res.1']\n",
    "for key in ['X_harmony.rna', 'X_harmony.rna.kt57', 'X_pca', 'X_pca_kt57']:\n",
    "    del concatenated.obsm[key]"
   ]
  },
  {
   "cell_type": "code",
   "execution_count": 36,
   "metadata": {},
   "outputs": [],
   "source": [
    "fls = glob.glob('/projects/Alex/Spatiotemporal_Atlas_Ecker/data/integration/*')\n",
    "fls = [i for i in fls if 'dc3000' not in i]"
   ]
  },
  {
   "cell_type": "code",
   "execution_count": 37,
   "metadata": {},
   "outputs": [],
   "source": [
    "batches = []\n",
    "for i in concatenated.obs['time']:\n",
    "    if i == '04h':\n",
    "        batches.append('4hr_avr')\n",
    "    elif i == '06h':\n",
    "        batches.append('6hr_avr')\n",
    "    elif i == '09h':\n",
    "        batches.append('9hr_avr')\n",
    "    elif i == '24h':\n",
    "        batches.append('avrrpt24')\n",
    "    elif i == 'Mock':\n",
    "        batches.append('mock')\n",
    "    else:\n",
    "        print(i)"
   ]
  },
  {
   "cell_type": "code",
   "execution_count": 38,
   "metadata": {},
   "outputs": [],
   "source": [
    "concatenated.obs['batch'] = batches"
   ]
  },
  {
   "cell_type": "code",
   "execution_count": null,
   "metadata": {},
   "outputs": [],
   "source": [
    "for fl in fls:\n",
    "    ad_sc = sc.read(os.path.join(fl, 'seq_data.h5ad'))\n",
    "    ad_sc.obs = ad_sc.obs[['nCount_RNA', 'nFeature_RNA', 'nCount_ATAC', 'nFeature_ATAC', 'nCount_SCT', 'nFeature_SCT', 'percent.mt', 'sample', 'time', 'doublet', 'SCT_snn_res.1', 'celltype', 'dpt_pseudotime']]\n",
    "\n",
    "    ad_sc.obs['Cluster'] = ad_sc.obs['SCT_snn_res.1'].values\n",
    "\n",
    "    del ad_sc.obs['SCT_snn_res.1']\n",
    "    del ad_sc.uns\n",
    "    for key in ['X_gimvi', 'X_harmony.rna', 'X_harmony.rna.kt57', 'X_pca', 'X_pca_kt57', 'X_harmony.lsi', 'X_harmony.rna', 'X_harmony.rna.kt56', 'X_lsi', 'X_pca', 'X_pca_kt56', 'X_ref.pca', 'X_wnn.umap']:\n",
    "        try:\n",
    "            del ad_sc.obsm[key]\n",
    "        except:\n",
    "            None\n",
    "\n",
    "    ad_sc.obsm['X_umap_joint_embedding_spatial'] = ad_sc.obsm['X_umap_gimvi']\n",
    "    ad_sc.obsm['X_umap_joint_embedding_seq'] = ad_sc.obsm['X_umap']\n",
    "\n",
    "    del ad_sc.obsm['X_umap_gimvi']\n",
    "    del ad_sc.obsm['X_umap']\n",
    "\n",
    "    ad_sc.obs.index = ['col_'+ ad_sc.obs['sample'][p] + '_' + ad_sc.obs.index[p].split('_')[-1] for p in range(len(ad_sc.obs.index))]\n",
    "\n",
    "    ad_sc.obs['X_umap_joint_embedding_spatial_x'] = ad_sc.obsm['X_umap_joint_embedding_spatial'][:, 0]\n",
    "    ad_sc.obs['X_umap_joint_embedding_spatial_y'] = ad_sc.obsm['X_umap_joint_embedding_spatial'][:, 1]\n",
    "    ad_sc.obs['X_umap_joint_embedding_seq_x'] = ad_sc.obsm['X_umap_joint_embedding_seq'][:, 0]\n",
    "    ad_sc.obs['X_umap_joint_embedding_seq_y'] = ad_sc.obsm['X_umap_joint_embedding_seq'][:, 1]\n",
    "\n",
    "\n",
    "    conc_base = concatenated[concatenated.obs['batch'] == os.path.basename(fl)]\n",
    "\n",
    "    ad_sc.obs = ad_sc.obs[[i for i in ad_sc.obs.columns if i not in conc_base.obs.columns]]\n",
    "    ad_sc.obs['on_merge'] = [i.split('_')[2] + i.split('_')[3] + i.split('_')[4] for i in ad_sc.obs.index]\n",
    "    conc_base.obs['on_merge'] = [i.split('_')[2] + i.split('_')[3] + i.split('_')[4] for i in conc_base.obs.index]\n",
    "    new_conc_base = conc_base.obs.merge(ad_sc.obs, how='left', left_on='on_merge', right_on='on_merge')\n",
    "\n",
    "    try:\n",
    "        del conc_base.obsm['X_umap']\n",
    "    except:\n",
    "        None\n",
    "\n",
    "    conc_base.obsm['X_umap_joint_embedding_spatial'] = new_conc_base[['X_umap_joint_embedding_spatial_x', 'X_umap_joint_embedding_spatial_y']].values\n",
    "    conc_base.obsm['X_umap_joint_embedding_seq'] = new_conc_base[['X_umap_joint_embedding_seq_x', 'X_umap_joint_embedding_seq_y']].values\n",
    "\n",
    "    conc_base.obs = new_conc_base\n",
    "    #conc_base =conc_base[~conc_base.obs['dpt_pseudotime'].isna()]\n",
    "    del conc_base.obs['X_umap_joint_embedding_spatial_x']\n",
    "    del conc_base.obs['X_umap_joint_embedding_spatial_y']\n",
    "    del conc_base.obs['X_umap_joint_embedding_seq_x']\n",
    "    del conc_base.obs['X_umap_joint_embedding_seq_y']\n",
    "    del conc_base.obs['on_merge']\n",
    "\n",
    "    conc_base.write(os.path.join('/home/amonell/Desktop/arabidopsis_website_cellxgene/static/spatial_objects', 'seq_'+os.path.basename(fl)+'.h5ad'))"
   ]
  }
 ],
 "metadata": {
  "kernelspec": {
   "display_name": "scvi-env",
   "language": "python",
   "name": "python3"
  },
  "language_info": {
   "codemirror_mode": {
    "name": "ipython",
    "version": 3
   },
   "file_extension": ".py",
   "mimetype": "text/x-python",
   "name": "python",
   "nbconvert_exporter": "python",
   "pygments_lexer": "ipython3",
   "version": "3.9.18"
  }
 },
 "nbformat": 4,
 "nbformat_minor": 2
}
